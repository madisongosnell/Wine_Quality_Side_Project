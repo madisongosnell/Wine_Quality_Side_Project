{
 "cells": [
  {
   "cell_type": "markdown",
   "id": "e54844f5",
   "metadata": {},
   "source": [
    "# Splitting data in to train, validation, and test"
   ]
  },
  {
   "cell_type": "code",
   "execution_count": 1,
   "id": "723e81d2",
   "metadata": {},
   "outputs": [],
   "source": [
    "#Reading in packages\n",
    "import pandas as pd\n",
    "from sklearn.model_selection import train_test_split"
   ]
  },
  {
   "cell_type": "code",
   "execution_count": 2,
   "id": "09d37f27",
   "metadata": {},
   "outputs": [],
   "source": [
    "#Impoting wine dataset\n",
    "all_wine = pd.read_csv(\"/Users/madisongosnell/Desktop/MSA Coding /Individual Project/all_wine.csv\")"
   ]
  },
  {
   "cell_type": "code",
   "execution_count": 3,
   "id": "10a59a2b",
   "metadata": {},
   "outputs": [],
   "source": [
    "#Splitting data into train and test split\n",
    "train_val,test = train_test_split(all_wine,test_size=0.2,random_state=123)\n",
    "train, validation = train_test_split(train_val, test_size=0.125, random_state=123) # 0.1/0.8 = 0.125, 10% of the original data in validation\n",
    "#Exporting train and test data for R\n",
    "train.to_csv('wine_train.csv', index=False)\n",
    "validation.to_csv('wine_validation.csv', index=False)\n",
    "test.to_csv('wine_test.csv', index=False)"
   ]
  }
 ],
 "metadata": {
  "kernelspec": {
   "display_name": "base",
   "language": "python",
   "name": "python3"
  },
  "language_info": {
   "codemirror_mode": {
    "name": "ipython",
    "version": 3
   },
   "file_extension": ".py",
   "mimetype": "text/x-python",
   "name": "python",
   "nbconvert_exporter": "python",
   "pygments_lexer": "ipython3",
   "version": "3.12.7"
  }
 },
 "nbformat": 4,
 "nbformat_minor": 5
}
