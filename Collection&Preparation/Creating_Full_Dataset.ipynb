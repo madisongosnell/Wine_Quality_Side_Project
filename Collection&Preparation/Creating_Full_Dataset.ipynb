{
 "cells": [
  {
   "cell_type": "markdown",
   "id": "4ca3c7fe",
   "metadata": {},
   "source": [
    "# Creating a Full Dataset"
   ]
  },
  {
   "cell_type": "code",
   "execution_count": 1,
   "id": "f60bfba5",
   "metadata": {},
   "outputs": [],
   "source": [
    "#Reading in packages\n",
    "import pandas as pd"
   ]
  },
  {
   "cell_type": "code",
   "execution_count": 2,
   "id": "1cefd4bf",
   "metadata": {},
   "outputs": [],
   "source": [
    "#Reading in datasets\n",
    "white = pd.read_csv(\"/Users/madisongosnell/Desktop/MSA Coding /Individual Project/winequality-white.csv\", sep=\";\")\n",
    "red = pd.read_csv(\"/Users/madisongosnell/Desktop/MSA Coding /Individual Project/winequality-red.csv\", sep=\";\")\n",
    "\n",
    "#Adding column to each dataset to distingusih red or white\n",
    "white[\"Wine Type\"] = \"White\"\n",
    "red[\"Wine Type\"] = \"Red\"\n",
    "\n",
    "#Concatenating dataframes\n",
    "all_wine = pd.concat([white, red])\n",
    "\n",
    "#Exporting all wine dataset to have\n",
    "all_wine.to_csv(\"all_wine.csv\", index=False)"
   ]
  }
 ],
 "metadata": {
  "kernelspec": {
   "display_name": "base",
   "language": "python",
   "name": "python3"
  },
  "language_info": {
   "codemirror_mode": {
    "name": "ipython",
    "version": 3
   },
   "file_extension": ".py",
   "mimetype": "text/x-python",
   "name": "python",
   "nbconvert_exporter": "python",
   "pygments_lexer": "ipython3",
   "version": "3.12.7"
  }
 },
 "nbformat": 4,
 "nbformat_minor": 5
}
