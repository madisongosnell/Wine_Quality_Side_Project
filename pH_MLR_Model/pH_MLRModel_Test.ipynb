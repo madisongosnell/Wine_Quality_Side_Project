{
 "cells": [
  {
   "cell_type": "markdown",
   "id": "e68334be",
   "metadata": {},
   "source": [
    "# Creating a Multiple Linear Regression Model for pH (Test data)"
   ]
  },
  {
   "cell_type": "code",
   "execution_count": 9,
   "id": "8ebf7f72",
   "metadata": {},
   "outputs": [],
   "source": [
    "#Reading in packages\n",
    "import pandas as pd\n",
    "import numpy as np\n",
    "import seaborn as sns\n",
    "import matplotlib.pyplot as plt\n",
    "import statsmodels.api as sma\n",
    "import statsmodels as sm\n",
    "import pylab as py\n",
    "import scipy.stats as stats\n",
    "import scipy as sp\n",
    "import statsmodels.formula.api as smf\n",
    "import sklearn\n",
    "from sklearn.linear_model import Ridge\n",
    "from sklearn.linear_model import Lasso\n",
    "from sklearn.linear_model import ElasticNet\n",
    "from plotnine import *\n",
    "from sklearn.linear_model import LinearRegression\n",
    "from sklearn.model_selection import train_test_split\n",
    "from sklearn.metrics import mean_absolute_error\n",
    "from sklearn.linear_model import LassoCV\n",
    "from sklearn.linear_model import RidgeCV\n",
    "from statsmodels.genmod.generalized_linear_model import GLM\n",
    "from scipy.stats import spearmanr"
   ]
  },
  {
   "cell_type": "code",
   "execution_count": 10,
   "id": "f2b1257f",
   "metadata": {},
   "outputs": [],
   "source": [
    "#Reading in test dataset \n",
    "test = pd.read_csv(\"/Users/madisongosnell/Desktop/MSA Coding /Individual Project/wine_test.csv\")\n",
    "\n",
    "#Changing column names in test dataset\n",
    "test.columns = [col.replace(' ', '_') for col in test.columns]"
   ]
  },
  {
   "cell_type": "code",
   "execution_count": 11,
   "id": "c9ae9c1a",
   "metadata": {},
   "outputs": [
    {
     "name": "stdout",
     "output_type": "stream",
     "text": [
      "                            OLS Regression Results                            \n",
      "==============================================================================\n",
      "Dep. Variable:                 log_pH   R-squared:                       0.373\n",
      "Model:                            OLS   Adj. R-squared:                  0.369\n",
      "Method:                 Least Squares   F-statistic:                     106.2\n",
      "Date:                Tue, 23 Sep 2025   Prob (F-statistic):          4.69e-136\n",
      "Time:                        18:37:56   Log-Likelihood:                 2360.6\n",
      "No. Observations:                1300   AIC:                            -4703.\n",
      "Df Residuals:                    1291   BIC:                            -4657.\n",
      "Df Model:                           8                                         \n",
      "Covariance Type:                  HC1                                         \n",
      "========================================================================================\n",
      "                           coef    std err          z      P>|z|      [0.025      0.975]\n",
      "----------------------------------------------------------------------------------------\n",
      "Intercept                1.3547      0.016     82.265      0.000       1.322       1.387\n",
      "Wine_Type[T.White]      -0.0578      0.005    -11.112      0.000      -0.068      -0.048\n",
      "fixed_acidity           -0.0208      0.001    -17.717      0.000      -0.023      -0.018\n",
      "citric_acid             -0.0239      0.009     -2.565      0.010      -0.042      -0.006\n",
      "residual_sugar          -0.0013      0.000     -4.568      0.000      -0.002      -0.001\n",
      "chlorides               -0.2259      0.031     -7.363      0.000      -0.286      -0.166\n",
      "total_sulfur_dioxide  2.196e-05   3.44e-05      0.638      0.524   -4.55e-05    8.95e-05\n",
      "sulphates                0.0409      0.015      2.693      0.007       0.011       0.071\n",
      "alcohol                  0.0009      0.001      0.781      0.435      -0.001       0.003\n",
      "==============================================================================\n",
      "Omnibus:                       35.626   Durbin-Watson:                   2.026\n",
      "Prob(Omnibus):                  0.000   Jarque-Bera (JB):               64.352\n",
      "Skew:                           0.195   Prob(JB):                     1.06e-14\n",
      "Kurtosis:                       4.018   Cond. No.                     4.50e+03\n",
      "==============================================================================\n",
      "\n",
      "Notes:\n",
      "[1] Standard Errors are heteroscedasticity robust (HC1)\n",
      "[2] The condition number is large, 4.5e+03. This might indicate that there are\n",
      "strong multicollinearity or other numerical problems.\n"
     ]
    }
   ],
   "source": [
    "# Will be applying the log and robust standard error model (accounts for normality and heteroscedasticity concerns)\n",
    "\n",
    "#Defining log_pH\n",
    "test['log_pH'] = np.log(test['pH'])\n",
    "\n",
    "#Fitting the model\n",
    "test_model = smf.ols(\n",
    "    \"log_pH ~ fixed_acidity + citric_acid + residual_sugar + chlorides + total_sulfur_dioxide + sulphates + alcohol + Wine_Type\", \n",
    "    data = test).fit(cov_type='HC1')\n",
    "\n",
    "#Getting model summary\n",
    "print(test_model.summary())\n",
    "\n",
    "\n",
    "# Not all variables are significant in the test dataset model, \n",
    "# but the adjusted R^2 is still a strong value indicating the model still fits well."
   ]
  },
  {
   "cell_type": "code",
   "execution_count": 12,
   "id": "dc036d7b",
   "metadata": {},
   "outputs": [
    {
     "name": "stdout",
     "output_type": "stream",
     "text": [
      "Mean Absolute Error (MAE): 0.09716275466859674\n"
     ]
    }
   ],
   "source": [
    "#Calculating Mean Absolute Error of the Model\n",
    "\n",
    "#Predicting log of pH\n",
    "log_pred = test_model.predict(test)\n",
    "\n",
    "#Exponentiating log back to realistic pH values\n",
    "predicted_pH = np.exp(log_pred)\n",
    "actual_pH = test['pH']\n",
    "\n",
    "#Calculating MAE\n",
    "mae = mean_absolute_error(actual_pH, predicted_pH)\n",
    "\n",
    "print(\"Mean Absolute Error (MAE):\", mae)"
   ]
  }
 ],
 "metadata": {
  "kernelspec": {
   "display_name": "base",
   "language": "python",
   "name": "python3"
  },
  "language_info": {
   "codemirror_mode": {
    "name": "ipython",
    "version": 3
   },
   "file_extension": ".py",
   "mimetype": "text/x-python",
   "name": "python",
   "nbconvert_exporter": "python",
   "pygments_lexer": "ipython3",
   "version": "3.12.7"
  }
 },
 "nbformat": 4,
 "nbformat_minor": 5
}
