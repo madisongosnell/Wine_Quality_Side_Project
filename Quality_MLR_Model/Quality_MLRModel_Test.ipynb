{
 "cells": [
  {
   "cell_type": "markdown",
   "id": "5114284c",
   "metadata": {},
   "source": [
    "# Creating a Multiple Linear Regression Model for Wine Quality (Test Data)"
   ]
  },
  {
   "cell_type": "code",
   "execution_count": 12,
   "id": "222dda02",
   "metadata": {},
   "outputs": [],
   "source": [
    "#Reading in packages\n",
    "import pandas as pd\n",
    "import numpy as np\n",
    "import seaborn as sns\n",
    "import matplotlib.pyplot as plt\n",
    "import statsmodels.api as sma\n",
    "import statsmodels as sm\n",
    "import pylab as py\n",
    "import scipy.stats as stats\n",
    "import scipy as sp\n",
    "import statsmodels.formula.api as smf\n",
    "import sklearn\n",
    "from sklearn.linear_model import Ridge\n",
    "from sklearn.linear_model import Lasso\n",
    "from sklearn.linear_model import ElasticNet\n",
    "from plotnine import *\n",
    "from sklearn.linear_model import LinearRegression\n",
    "from sklearn.model_selection import train_test_split\n",
    "from sklearn.metrics import mean_absolute_error\n",
    "from sklearn.linear_model import LassoCV\n",
    "from sklearn.linear_model import RidgeCV\n",
    "from statsmodels.genmod.generalized_linear_model import GLM\n",
    "from scipy.stats import spearmanr"
   ]
  },
  {
   "cell_type": "code",
   "execution_count": 6,
   "id": "8ae226e2",
   "metadata": {},
   "outputs": [],
   "source": [
    "#Reading in dataset\n",
    "test = pd.read_csv(\"/Users/madisongosnell/Desktop/MSA Coding /Individual Project/wine_test.csv\")\n",
    "\n",
    "#Changing column names in train and test datasets \n",
    "test.columns = [col.replace(' ', '_') for col in test.columns]"
   ]
  },
  {
   "cell_type": "code",
   "execution_count": 7,
   "id": "2b6b3ca6",
   "metadata": {},
   "outputs": [
    {
     "name": "stdout",
     "output_type": "stream",
     "text": [
      "                            OLS Regression Results                            \n",
      "==============================================================================\n",
      "Dep. Variable:            log_quality   R-squared:                       0.263\n",
      "Model:                            OLS   Adj. R-squared:                  0.258\n",
      "Method:                 Least Squares   F-statistic:                     57.52\n",
      "Date:                Mon, 22 Sep 2025   Prob (F-statistic):           2.86e-80\n",
      "Time:                        21:27:35   Log-Likelihood:                 822.60\n",
      "No. Observations:                1300   AIC:                            -1627.\n",
      "Df Residuals:                    1291   BIC:                            -1581.\n",
      "Df Model:                           8                                         \n",
      "Covariance Type:            nonrobust                                         \n",
      "========================================================================================\n",
      "                           coef    std err          t      P>|t|      [0.025      0.975]\n",
      "----------------------------------------------------------------------------------------\n",
      "Intercept                1.2455      0.048     25.918      0.000       1.151       1.340\n",
      "Wine_Type[T.White]      -0.0388      0.017     -2.285      0.022      -0.072      -0.005\n",
      "alcohol                  0.0548      0.004     15.056      0.000       0.048       0.062\n",
      "volatile_acidity        -0.2985      0.032     -9.380      0.000      -0.361      -0.236\n",
      "sulphates                0.0950      0.028      3.367      0.001       0.040       0.150\n",
      "residual_sugar           0.0040      0.001      4.407      0.000       0.002       0.006\n",
      "free_sulfur_dioxide      0.0010      0.000      3.225      0.001       0.000       0.002\n",
      "total_sulfur_dioxide    -0.0003      0.000     -1.992      0.047      -0.000   -3.77e-06\n",
      "chlorides               -0.2145      0.122     -1.752      0.080      -0.455       0.026\n",
      "==============================================================================\n",
      "Omnibus:                      170.827   Durbin-Watson:                   1.963\n",
      "Prob(Omnibus):                  0.000   Jarque-Bera (JB):              564.130\n",
      "Skew:                          -0.636   Prob(JB):                    3.17e-123\n",
      "Kurtosis:                       5.966   Cond. No.                     4.56e+03\n",
      "==============================================================================\n",
      "\n",
      "Notes:\n",
      "[1] Standard Errors assume that the covariance matrix of the errors is correctly specified.\n",
      "[2] The condition number is large, 4.56e+03. This might indicate that there are\n",
      "strong multicollinearity or other numerical problems.\n"
     ]
    }
   ],
   "source": [
    "#Doing a log transofrmation on quality\n",
    "test['log_quality'] = np.log(test['quality'])\n",
    "\n",
    "#Fitting new model with log(quality) as the response variable\n",
    "test_model = smf.ols(\n",
    "    \"log_quality ~ alcohol + volatile_acidity + sulphates + residual_sugar + Wine_Type + free_sulfur_dioxide + total_sulfur_dioxide + chlorides\", \n",
    "    data = test).fit()\n",
    "\n",
    "#Getting model summary\n",
    "print(test_model.summary())\n",
    "\n",
    "#Variables are significant "
   ]
  },
  {
   "cell_type": "code",
   "execution_count": 13,
   "id": "5796112c",
   "metadata": {},
   "outputs": [
    {
     "name": "stdout",
     "output_type": "stream",
     "text": [
      "Mean Absolute Error (MAE): 0.5607939915041961\n"
     ]
    }
   ],
   "source": [
    "#Calculating Mean Absolute Error of the Model\n",
    "\n",
    "#Predicting log of quality\n",
    "log_pred = test_model.predict(test)\n",
    "\n",
    "#Exponentiating log back to realistic quality values\n",
    "predicted_quality = np.exp(log_pred)\n",
    "actual_quality = test['quality']\n",
    "\n",
    "#Calculating MAE\n",
    "mae = mean_absolute_error(actual_quality, predicted_quality)\n",
    "\n",
    "print(\"Mean Absolute Error (MAE):\", mae)"
   ]
  }
 ],
 "metadata": {
  "kernelspec": {
   "display_name": "base",
   "language": "python",
   "name": "python3"
  },
  "language_info": {
   "codemirror_mode": {
    "name": "ipython",
    "version": 3
   },
   "file_extension": ".py",
   "mimetype": "text/x-python",
   "name": "python",
   "nbconvert_exporter": "python",
   "pygments_lexer": "ipython3",
   "version": "3.12.7"
  }
 },
 "nbformat": 4,
 "nbformat_minor": 5
}
